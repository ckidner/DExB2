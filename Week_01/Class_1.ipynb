{
 "cells": [
  {
   "cell_type": "markdown",
   "id": "f840ebfc",
   "metadata": {},
   "source": [
    "## Class 1\n",
    "Revising basics of pandas and seaborn  \n",
    "Revising basic statistical tests  \n",
    "Examining sources of error in data  "
   ]
  },
  {
   "cell_type": "markdown",
   "id": "f0a881d5",
   "metadata": {},
   "source": [
    "### How reliable is your data?"
   ]
  },
  {
   "cell_type": "markdown",
   "id": "0d2658b5",
   "metadata": {},
   "source": [
    "Much has been made of a link between brain size and intelligence. We will test this by correalating head circumference with the marks in the warm-up quiz"
   ]
  },
  {
   "cell_type": "markdown",
   "id": "3e267c0f",
   "metadata": {},
   "source": [
    "### Method. \n",
    "Each group of 5 should have a tape measure.  \n",
    "Two people should each measure the heads of everyone in the group and everyone in the group beside you.  \n",
    "Wrap the tape measure around just above the ears.  \n",
    "Everyone will get measured 4 times.  Be fast!"
   ]
  },
  {
   "cell_type": "markdown",
   "id": "4edfd19d",
   "metadata": {},
   "source": [
    "### Data Entry. \n",
    "Make a python dataframe for your data from lists of Measurer, Group, Group-member, Head_diameter"
   ]
  },
  {
   "cell_type": "code",
   "execution_count": 1,
   "id": "3de5db29",
   "metadata": {},
   "outputs": [],
   "source": [
    "# Analysis modules\n",
    "import numpy as np\n",
    "import pandas as pd\n",
    "import matplotlib as mpl\n",
    "import matplotlib.pyplot as plt\n",
    "import seaborn as sns\n",
    "import scipy.stats as stats\n",
    "from scipy.stats import shapiro"
   ]
  },
  {
   "cell_type": "markdown",
   "id": "2514b20c",
   "metadata": {},
   "source": [
    "Enter your data into python lists.   Just replace the numbers and names here with your own.  Use your group names in stead of 'us' and 'them'"
   ]
  },
  {
   "cell_type": "code",
   "execution_count": 2,
   "id": "3425b081",
   "metadata": {},
   "outputs": [],
   "source": [
    "Group_member = ['Aaron', 'Alice', 'Charlie', 'Thibauld', 'Thu', 'Pakkapol', 'Saima', 'Hillary', 'Faye', 'Xiao-feng']\n",
    "Group = ['us', 'us', 'us', 'us', 'us', 'them','them','them','them','them']\n",
    "Charlie_measure = [56,58,51,55,52,50,54,53,58,57,]\n",
    "Thu_measure = [56,57,52,56,51,52,55,54,57,57]"
   ]
  },
  {
   "cell_type": "markdown",
   "id": "14f56c62",
   "metadata": {},
   "source": [
    "Combine lists into a dataframe"
   ]
  },
  {
   "cell_type": "code",
   "execution_count": 3,
   "id": "147ef047",
   "metadata": {},
   "outputs": [],
   "source": [
    "zipped = list(zip(Group_member, Group, Charlie_measure, Thu_measure ))\n",
    "df = pd.DataFrame(zipped, columns=['Group_member', 'Group', 'Charlie', 'Thu'])"
   ]
  },
  {
   "cell_type": "markdown",
   "id": "781100f8",
   "metadata": {},
   "source": [
    "We now have a pandas dataframe.  It has an index running along the left hand, column names on the top.  There are useful functions for checking and summarising it."
   ]
  },
  {
   "cell_type": "markdown",
   "id": "1e1bc4b2",
   "metadata": {},
   "source": [
    "#### Check things look right"
   ]
  },
  {
   "cell_type": "code",
   "execution_count": 4,
   "id": "ba8a49c8",
   "metadata": {},
   "outputs": [
    {
     "data": {
      "text/plain": [
       "(10, 4)"
      ]
     },
     "execution_count": 4,
     "metadata": {},
     "output_type": "execute_result"
    }
   ],
   "source": [
    "df.shape"
   ]
  },
  {
   "cell_type": "code",
   "execution_count": 17,
   "id": "72f0c431",
   "metadata": {},
   "outputs": [
    {
     "data": {
      "text/html": [
       "<div>\n",
       "<style scoped>\n",
       "    .dataframe tbody tr th:only-of-type {\n",
       "        vertical-align: middle;\n",
       "    }\n",
       "\n",
       "    .dataframe tbody tr th {\n",
       "        vertical-align: top;\n",
       "    }\n",
       "\n",
       "    .dataframe thead th {\n",
       "        text-align: right;\n",
       "    }\n",
       "</style>\n",
       "<table border=\"1\" class=\"dataframe\">\n",
       "  <thead>\n",
       "    <tr style=\"text-align: right;\">\n",
       "      <th></th>\n",
       "      <th>Group_member</th>\n",
       "      <th>Group</th>\n",
       "      <th>Charlie</th>\n",
       "      <th>Thu</th>\n",
       "    </tr>\n",
       "  </thead>\n",
       "  <tbody>\n",
       "    <tr>\n",
       "      <th>0</th>\n",
       "      <td>Aaron</td>\n",
       "      <td>us</td>\n",
       "      <td>56</td>\n",
       "      <td>56</td>\n",
       "    </tr>\n",
       "    <tr>\n",
       "      <th>1</th>\n",
       "      <td>Alice</td>\n",
       "      <td>us</td>\n",
       "      <td>58</td>\n",
       "      <td>57</td>\n",
       "    </tr>\n",
       "    <tr>\n",
       "      <th>2</th>\n",
       "      <td>Charlie</td>\n",
       "      <td>us</td>\n",
       "      <td>51</td>\n",
       "      <td>52</td>\n",
       "    </tr>\n",
       "  </tbody>\n",
       "</table>\n",
       "</div>"
      ],
      "text/plain": [
       "  Group_member Group  Charlie  Thu\n",
       "0        Aaron    us       56   56\n",
       "1        Alice    us       58   57\n",
       "2      Charlie    us       51   52"
      ]
     },
     "execution_count": 17,
     "metadata": {},
     "output_type": "execute_result"
    }
   ],
   "source": [
    "df.head(3)"
   ]
  },
  {
   "cell_type": "markdown",
   "id": "ebbbdd72",
   "metadata": {},
   "source": [
    "Summarising"
   ]
  },
  {
   "cell_type": "code",
   "execution_count": null,
   "id": "ab10241b",
   "metadata": {},
   "outputs": [],
   "source": [
    "df.describe()"
   ]
  },
  {
   "cell_type": "markdown",
   "id": "6f234193",
   "metadata": {},
   "source": [
    "You can get just single statistics for each column"
   ]
  },
  {
   "cell_type": "code",
   "execution_count": null,
   "id": "d840a264",
   "metadata": {},
   "outputs": [],
   "source": [
    "df.mean()"
   ]
  },
  {
   "cell_type": "code",
   "execution_count": null,
   "id": "e0273a26",
   "metadata": {},
   "outputs": [],
   "source": [
    "df.max()"
   ]
  },
  {
   "cell_type": "markdown",
   "id": "0e9fe363",
   "metadata": {},
   "source": [
    "Each column in the dataframe is a series.  This is a bit like a python list, but has an order, index and, like dataframes, there are functions to describe and summarise them.  A series can be called in different ways.  It can be assigned to a variable:"
   ]
  },
  {
   "cell_type": "code",
   "execution_count": 20,
   "id": "4f02d9f7",
   "metadata": {},
   "outputs": [],
   "source": [
    "P = df['Thu']"
   ]
  },
  {
   "cell_type": "code",
   "execution_count": 21,
   "id": "52bd77e3",
   "metadata": {},
   "outputs": [
    {
     "data": {
      "text/plain": [
       "57"
      ]
     },
     "execution_count": 21,
     "metadata": {},
     "output_type": "execute_result"
    }
   ],
   "source": [
    "max(P)"
   ]
  },
  {
   "cell_type": "code",
   "execution_count": 22,
   "id": "de769a93",
   "metadata": {},
   "outputs": [
    {
     "data": {
      "text/plain": [
       "57"
      ]
     },
     "execution_count": 22,
     "metadata": {},
     "output_type": "execute_result"
    }
   ],
   "source": [
    "P.max()"
   ]
  },
  {
   "cell_type": "markdown",
   "id": "3a749a35",
   "metadata": {},
   "source": [
    "Or called directly within a function, either explictly:"
   ]
  },
  {
   "cell_type": "code",
   "execution_count": 23,
   "id": "0b33d9de",
   "metadata": {},
   "outputs": [
    {
     "data": {
      "text/plain": [
       "57"
      ]
     },
     "execution_count": 23,
     "metadata": {},
     "output_type": "execute_result"
    }
   ],
   "source": [
    "max(df['Thu'])"
   ]
  },
  {
   "cell_type": "markdown",
   "id": "037f6c50",
   "metadata": {},
   "source": [
    "Or simply (if the column. name has no spaces, or odd characters)"
   ]
  },
  {
   "cell_type": "code",
   "execution_count": 24,
   "id": "a8195a61",
   "metadata": {},
   "outputs": [
    {
     "data": {
      "text/plain": [
       "57"
      ]
     },
     "execution_count": 24,
     "metadata": {},
     "output_type": "execute_result"
    }
   ],
   "source": [
    "max(df.Thu)"
   ]
  },
  {
   "cell_type": "markdown",
   "id": "eb775538",
   "metadata": {},
   "source": [
    "Other functions you can use to summarise a series:  \n",
    "    \n",
    "    P.min()\n",
    "    P.mean()\n",
    "    P.median()\n",
    "    P.std()\n",
    "    P.skew()\n",
    "    P.quantile(0.5)\n",
    "    P.nlargest(3)\n",
    "    P.sample(2)\n",
    "    P.head(3\n",
    "    P.value_counts()\n",
    "    \n",
    "    "
   ]
  },
  {
   "cell_type": "markdown",
   "id": "2cec2c32",
   "metadata": {},
   "source": [
    "### Do we have reliable measures?"
   ]
  },
  {
   "cell_type": "code",
   "execution_count": 25,
   "id": "339ba580",
   "metadata": {},
   "outputs": [
    {
     "data": {
      "image/png": "[encoded data removed]",
      "text/plain": [
       "<Figure size 640x480 with 1 Axes>"
      ]
     },
     "metadata": {},
     "output_type": "display_data"
    }
   ],
   "source": [
    "ax = sns.regplot(x=\"Charlie\", y=\"Thu\", data=df)"
   ]
  },
  {
   "cell_type": "markdown",
   "id": "da999f5a",
   "metadata": {},
   "source": [
    "Are there significant differeneces between the measures by each person?  You will remember from last year that we can use a paired t test for this."
   ]
  },
  {
   "cell_type": "markdown",
   "id": "7bebb7b2",
   "metadata": {},
   "source": [
    "#### Paired t test\n",
    "Assumptions:  \n",
    "Continous dependent variable  \n",
    "Independant observations   \n",
    "Normally distributed dependent variable (at least largely - the test is quite robust to this)  \n",
    "No major outliers  "
   ]
  },
  {
   "cell_type": "markdown",
   "id": "e71dfc9b",
   "metadata": {},
   "source": [
    "We should start by plotting the data and checking normalcy"
   ]
  },
  {
   "cell_type": "code",
   "execution_count": 26,
   "id": "c17390d0",
   "metadata": {},
   "outputs": [
    {
     "data": {
      "text/plain": [
       "<AxesSubplot:xlabel='Charlie', ylabel='Count'>"
      ]
     },
     "execution_count": 26,
     "metadata": {},
     "output_type": "execute_result"
    },
    {
     "data": {
      "image/png": "[encoded data removed]",
      "text/plain": [
       "<Figure size 640x480 with 1 Axes>"
      ]
     },
     "metadata": {},
     "output_type": "display_data"
    }
   ],
   "source": [
    "sns.histplot(data=df, x='Charlie')"
   ]
  },
  {
   "cell_type": "markdown",
   "id": "fae6e372",
   "metadata": {},
   "source": [
    "Not looking very normal..."
   ]
  },
  {
   "cell_type": "code",
   "execution_count": 28,
   "id": "ffb8e485",
   "metadata": {},
   "outputs": [
    {
     "name": "stdout",
     "output_type": "stream",
     "text": [
      "Statistics=0.942, p=0.578\n",
      "Sample looks Gaussian (fail to reject H0)\n"
     ]
    }
   ],
   "source": [
    "# test for P's measures\n",
    "stat, p = shapiro(df['Charlie']) \n",
    "\n",
    "print(f'Statistics = {stat:.3f}, p = {p:.3f}') \n",
    "\n",
    "\n",
    "alpha = 0.05\n",
    "if p > alpha:\n",
    "\tprint('Sample looks Gaussian (fail to reject H0)')\n",
    "else:\n",
    "\tprint('Sample does not look Gaussian (reject H0)')"
   ]
  },
  {
   "cell_type": "code",
   "execution_count": 29,
   "id": "1a4e1d51",
   "metadata": {},
   "outputs": [
    {
     "data": {
      "text/plain": [
       "<AxesSubplot:xlabel='Thu', ylabel='Count'>"
      ]
     },
     "execution_count": 29,
     "metadata": {},
     "output_type": "execute_result"
    },
    {
     "data": {
      "image/png": "[encoded data removed]",
      "text/plain": [
       "<Figure size 640x480 with 1 Axes>"
      ]
     },
     "metadata": {},
     "output_type": "display_data"
    }
   ],
   "source": [
    "sns.histplot(data=df, x='Thu')"
   ]
  },
  {
   "cell_type": "code",
   "execution_count": 30,
   "id": "12f43bac",
   "metadata": {},
   "outputs": [
    {
     "name": "stdout",
     "output_type": "stream",
     "text": [
      "Statistics=0.863, p=0.084\n",
      "Sample looks Gaussian (fail to reject H0)\n"
     ]
    }
   ],
   "source": [
    "# test for C's measures\n",
    "stat, p = shapiro(df['Thu']) \n",
    "\n",
    "print(f'Statistics = {stat:.3f}, p = {p:.3f}') \n",
    "\n",
    "alpha = 0.05\n",
    "if p > alpha:\n",
    "\tprint('Sample looks Gaussian (fail to reject H0)')\n",
    "else:\n",
    "\tprint('Sample does not look Gaussian (reject H0)')"
   ]
  },
  {
   "cell_type": "code",
   "execution_count": 31,
   "id": "fbd1ec75",
   "metadata": {},
   "outputs": [
    {
     "data": {
      "text/plain": [
       "Ttest_relResult(statistic=-0.8955334711889903, pvalue=0.39382281469156144)"
      ]
     },
     "execution_count": 31,
     "metadata": {},
     "output_type": "execute_result"
    }
   ],
   "source": [
    "stats.ttest_rel(df['Charlie'], df['Thu'])"
   ]
  },
  {
   "cell_type": "markdown",
   "id": "24c0eb34",
   "metadata": {},
   "source": [
    "Cannot reject the null hypothesis - the two sets of measurements are not significantly different"
   ]
  },
  {
   "cell_type": "markdown",
   "id": "0a73e129",
   "metadata": {},
   "source": [
    "#### Average the two measurements\n",
    "As the two measures are not significantly different we'll average them and make a new column of this in the dataframe"
   ]
  },
  {
   "cell_type": "code",
   "execution_count": 32,
   "id": "81d4781d",
   "metadata": {},
   "outputs": [],
   "source": [
    "df['Av_diameter'] = df[['Charlie','Thu']].mean(axis=1)"
   ]
  },
  {
   "cell_type": "code",
   "execution_count": 33,
   "id": "c20963ec",
   "metadata": {},
   "outputs": [
    {
     "data": {
      "text/html": [
       "<div>\n",
       "<style scoped>\n",
       "    .dataframe tbody tr th:only-of-type {\n",
       "        vertical-align: middle;\n",
       "    }\n",
       "\n",
       "    .dataframe tbody tr th {\n",
       "        vertical-align: top;\n",
       "    }\n",
       "\n",
       "    .dataframe thead th {\n",
       "        text-align: right;\n",
       "    }\n",
       "</style>\n",
       "<table border=\"1\" class=\"dataframe\">\n",
       "  <thead>\n",
       "    <tr style=\"text-align: right;\">\n",
       "      <th></th>\n",
       "      <th>Group_member</th>\n",
       "      <th>Group</th>\n",
       "      <th>Charlie</th>\n",
       "      <th>Thu</th>\n",
       "      <th>Av_diameter</th>\n",
       "    </tr>\n",
       "  </thead>\n",
       "  <tbody>\n",
       "    <tr>\n",
       "      <th>0</th>\n",
       "      <td>Aaron</td>\n",
       "      <td>us</td>\n",
       "      <td>56</td>\n",
       "      <td>56</td>\n",
       "      <td>56.0</td>\n",
       "    </tr>\n",
       "    <tr>\n",
       "      <th>1</th>\n",
       "      <td>Alice</td>\n",
       "      <td>us</td>\n",
       "      <td>58</td>\n",
       "      <td>57</td>\n",
       "      <td>57.5</td>\n",
       "    </tr>\n",
       "    <tr>\n",
       "      <th>2</th>\n",
       "      <td>Charlie</td>\n",
       "      <td>us</td>\n",
       "      <td>51</td>\n",
       "      <td>52</td>\n",
       "      <td>51.5</td>\n",
       "    </tr>\n",
       "  </tbody>\n",
       "</table>\n",
       "</div>"
      ],
      "text/plain": [
       "  Group_member Group  Charlie  Thu  Av_diameter\n",
       "0        Aaron    us       56   56         56.0\n",
       "1        Alice    us       58   57         57.5\n",
       "2      Charlie    us       51   52         51.5"
      ]
     },
     "execution_count": 33,
     "metadata": {},
     "output_type": "execute_result"
    }
   ],
   "source": [
    "df.head(3)"
   ]
  },
  {
   "cell_type": "markdown",
   "id": "b492c0fc",
   "metadata": {},
   "source": [
    "The averages will be gathered by denomstrators, along with quiz marks.  These are anonymous!"
   ]
  },
  {
   "cell_type": "markdown",
   "id": "c0b15f46",
   "metadata": {},
   "source": [
    "### Whole-class data gathering"
   ]
  },
  {
   "cell_type": "markdown",
   "id": "9d04f2f9",
   "metadata": {},
   "source": [
    "Demonstrators will enter all the data into a sharepoint document which can be read in using this code (once it is complete!).  \n",
    "\n",
    "Data is:\n",
    "Student_Group, Student_number, Head_Size_cm, Quiz_Score"
   ]
  },
  {
   "cell_type": "code",
   "execution_count": 20,
   "id": "2ac01fbd",
   "metadata": {},
   "outputs": [],
   "source": [
    "#download shared group data\n",
    " \n",
    "import requests\n",
    "import pandas as pd\n",
    " \n",
    "file_url = 'https://uoe-my.sharepoint.com/:x:/g/personal/ckidner_ed_ac_uk/EWOdw-R6PTFOhgM8RkdP1dkB61N7-Z-gaOuRXFdPSK9fpw?download=1'\n",
    "image_name = 'DexB2_class_data.xlsx'\n",
    "r = requests.get(file_url, stream=True)\n",
    "with open(image_name, 'wb') as f:\n",
    "    for chunk in r.iter_content():\n",
    "        f.write(chunk)"
   ]
  },
  {
   "cell_type": "code",
   "execution_count": 21,
   "id": "2d05632d",
   "metadata": {
    "vscode": {
     "languageId": "r"
    }
   },
   "outputs": [],
   "source": [
    "df=pd.read_excel('DexB2_class_data.xlsx')"
   ]
  },
  {
   "cell_type": "code",
   "execution_count": 22,
   "id": "56235528",
   "metadata": {},
   "outputs": [
    {
     "data": {
      "text/html": [
       "<div>\n",
       "<style scoped>\n",
       "    .dataframe tbody tr th:only-of-type {\n",
       "        vertical-align: middle;\n",
       "    }\n",
       "\n",
       "    .dataframe tbody tr th {\n",
       "        vertical-align: top;\n",
       "    }\n",
       "\n",
       "    .dataframe thead th {\n",
       "        text-align: right;\n",
       "    }\n",
       "</style>\n",
       "<table border=\"1\" class=\"dataframe\">\n",
       "  <thead>\n",
       "    <tr style=\"text-align: right;\">\n",
       "      <th></th>\n",
       "      <th>Student_Group</th>\n",
       "      <th>Student_Number</th>\n",
       "      <th>Head_Size_cm</th>\n",
       "      <th>Quiz_Score</th>\n",
       "    </tr>\n",
       "  </thead>\n",
       "  <tbody>\n",
       "    <tr>\n",
       "      <th>0</th>\n",
       "      <td>gr1</td>\n",
       "      <td>1</td>\n",
       "      <td>56</td>\n",
       "      <td>7</td>\n",
       "    </tr>\n",
       "    <tr>\n",
       "      <th>1</th>\n",
       "      <td>gr1</td>\n",
       "      <td>2</td>\n",
       "      <td>54</td>\n",
       "      <td>3</td>\n",
       "    </tr>\n",
       "    <tr>\n",
       "      <th>2</th>\n",
       "      <td>gr1</td>\n",
       "      <td>3</td>\n",
       "      <td>57</td>\n",
       "      <td>6</td>\n",
       "    </tr>\n",
       "    <tr>\n",
       "      <th>3</th>\n",
       "      <td>gr1</td>\n",
       "      <td>4</td>\n",
       "      <td>52</td>\n",
       "      <td>2</td>\n",
       "    </tr>\n",
       "    <tr>\n",
       "      <th>4</th>\n",
       "      <td>gr1</td>\n",
       "      <td>5</td>\n",
       "      <td>51</td>\n",
       "      <td>9</td>\n",
       "    </tr>\n",
       "  </tbody>\n",
       "</table>\n",
       "</div>"
      ],
      "text/plain": [
       "  Student_Group  Student_Number  Head_Size_cm  Quiz_Score\n",
       "0           gr1               1            56           7\n",
       "1           gr1               2            54           3\n",
       "2           gr1               3            57           6\n",
       "3           gr1               4            52           2\n",
       "4           gr1               5            51           9"
      ]
     },
     "execution_count": 22,
     "metadata": {},
     "output_type": "execute_result"
    }
   ],
   "source": [
    "df"
   ]
  },
  {
   "cell_type": "markdown",
   "id": "9e181f35",
   "metadata": {},
   "source": [
    "Are head circumferences normally distributed?"
   ]
  },
  {
   "cell_type": "code",
   "execution_count": null,
   "id": "433eef0a",
   "metadata": {},
   "outputs": [],
   "source": [
    "sns.histplot(data = df, x='Head_Size_cm')"
   ]
  },
  {
   "cell_type": "markdown",
   "id": "6329ed5b",
   "metadata": {},
   "source": [
    "Use the Shaprio-Wilkes test to check for normality"
   ]
  },
  {
   "cell_type": "code",
   "execution_count": null,
   "id": "34a1eeb5",
   "metadata": {},
   "outputs": [],
   "source": [
    "# test for normality\n",
    "stat, p = shapiro(df['Head_Size_cm'])\n",
    "print('Statistics=%.3f, p=%.3f' % (stat, p))\n",
    "\n",
    "alpha = 0.05\n",
    "if p > alpha:\n",
    "\tprint('Sample looks Gaussian (fail to reject H0)')\n",
    "else:\n",
    "\tprint('Sample does not look Gaussian (reject H0)')"
   ]
  },
  {
   "cell_type": "markdown",
   "id": "2fdb0054",
   "metadata": {},
   "source": [
    "### Now for the intelligence part!  \n",
    "Plot a histogram and check the normality of the quiz marks"
   ]
  },
  {
   "cell_type": "markdown",
   "id": "3a155600",
   "metadata": {},
   "source": [
    "Is there a correlation between head size and abiltiy to recall data analysis skills from last year?  \n",
    "Plot one against the other using:  \n",
    "\n",
    "    sns.scatterplot(data=df, x=\"Head_Size_cm\", y=\"Quiz_mark\")"
   ]
  },
  {
   "cell_type": "code",
   "execution_count": null,
   "id": "ce76f0c3",
   "metadata": {},
   "outputs": [],
   "source": []
  }
 ],
 "metadata": {
  "kernelspec": {
   "display_name": "Python 3 (ipykernel)",
   "language": "python",
   "name": "python3"
  },
  "language_info": {
   "codemirror_mode": {
    "name": "ipython",
    "version": 3
   },
   "file_extension": ".py",
   "mimetype": "text/x-python",
   "name": "python",
   "nbconvert_exporter": "python",
   "pygments_lexer": "ipython3",
   "version": "3.8.13"
  }
 },
 "nbformat": 4,
 "nbformat_minor": 5
}
