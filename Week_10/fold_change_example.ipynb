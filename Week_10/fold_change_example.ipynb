{
 "cells": [
  {
   "cell_type": "markdown",
   "id": "3bc7f796",
   "metadata": {},
   "source": [
    "# Log2 Fold-Change example\n",
    "\n",
    "Data have different distributions and quantitative features. Data may need to be scaled or normalised in order to be compared in a way that makes sense.\n",
    "\n",
    "This is true for data about abundance of biological molecules, like mRNAs and proteins. Some mRNAs are very abundant and may have 1000s of copies per cell, others are rare and may have an average of less than one copy per cell. Plotting these on the same axes isn't informative."
   ]
  },
  {
   "cell_type": "code",
   "execution_count": null,
   "id": "64ef3a04",
   "metadata": {},
   "outputs": [],
   "source": [
    "# Analysis modules\n",
    "import numpy as np\n",
    "import pandas as pd\n",
    "import matplotlib as mpl\n",
    "import matplotlib.pyplot as plt\n",
    "import seaborn as sns\n",
    "np.set_printoptions(precision=5, suppress=True)  # suppress scientific floatation \n",
    "sns.set(color_codes=True)\n",
    "%matplotlib inline\n",
    "pd.set_option('display.max_columns', 500)\n",
    "pd.set_option('display.max_rows', 500)"
   ]
  },
  {
   "cell_type": "markdown",
   "id": "feaaa275",
   "metadata": {},
   "source": [
    "## Small Log2 Fold-Change example\n",
    "\n",
    "This uses a very small gene expression dataset, `/Datasets/Infection_TPM.csv`, to illustrate how to calculate a log2 fold-change."
   ]
  },
  {
   "cell_type": "code",
   "execution_count": null,
   "id": "73ddd611",
   "metadata": {},
   "outputs": [],
   "source": [
    "df = pd.read_csv(\"../Datasets/Infection_TPM.csv\")\n",
    "df"
   ]
  },
  {
   "cell_type": "markdown",
   "id": "7a00ab90",
   "metadata": {},
   "source": [
    "These data aren't tidy. In practice, you could **either** first calculate the log2 fold-change and then tidy it up, **or** you could first tidy it up and then calculate. Here we will calculate first, and leave the tidy then calculate as an exercise."
   ]
  },
  {
   "cell_type": "markdown",
   "id": "9c23876c",
   "metadata": {},
   "source": [
    "## Example: calculate log2 fold-change first"
   ]
  },
  {
   "cell_type": "code",
   "execution_count": null,
   "id": "3bb22f98",
   "metadata": {},
   "outputs": [],
   "source": [
    "# remove the Gene_ID column to leave only the numeric columns\n",
    "df_numbersonly = df.loc[:, df.columns != \"Gene_ID\"] \n",
    "df_numbersonly"
   ]
  },
  {
   "cell_type": "code",
   "execution_count": null,
   "id": "45c5792d",
   "metadata": {},
   "outputs": [],
   "source": [
    "# calculate log2 values\n",
    "df_numbersonly_log2 = np.log2(df_numbersonly)\n",
    "df_numbersonly_log2"
   ]
  },
  {
   "cell_type": "code",
   "execution_count": null,
   "id": "74cab9f4",
   "metadata": {},
   "outputs": [],
   "source": [
    "# subtract the mean values of columns\n",
    "df_numbersonly_log2foldchange = df_numbersonly_log2.apply(lambda x : x - x.mean(), axis = 1)\n",
    "df_numbersonly_log2foldchange\n"
   ]
  },
  {
   "cell_type": "code",
   "execution_count": null,
   "id": "19ffe73c",
   "metadata": {},
   "outputs": [],
   "source": [
    "# check that rows sum to zero, so we calculated correctly for each gene\n",
    "df_numbersonly_log2foldchange.sum(axis = 1)"
   ]
  },
  {
   "cell_type": "code",
   "execution_count": null,
   "id": "4f14969b",
   "metadata": {},
   "outputs": [],
   "source": [
    "# concatenate the GeneID column, in case it's needed\n",
    "df_log2foldchange = pd.concat([ df[['Gene_ID']], df_numbersonly_log2foldchange], axis = 1)\n",
    "df_log2foldchange"
   ]
  },
  {
   "cell_type": "markdown",
   "id": "f1ef89ef",
   "metadata": {},
   "source": [
    "Let's plot this as a heatmap. We have to set an index to get the gene names in the rowl"
   ]
  },
  {
   "cell_type": "code",
   "execution_count": null,
   "id": "87ede8cd",
   "metadata": {},
   "outputs": [],
   "source": [
    "df_numbersonly_log2foldchange.index =  df['Gene_ID']\n",
    "\n",
    "sns.heatmap(data = df_numbersonly_log2foldchange)"
   ]
  },
  {
   "cell_type": "markdown",
   "id": "ef33e691",
   "metadata": {},
   "source": [
    "This step-by-step approach works.\n",
    "\n",
    "In order, we:\n",
    "\n",
    "1. Extracted numeric columns\n",
    "2. Calculated the log2 values\n",
    "3. Subtracted the log2-means from the values\n",
    "4. Concatenated (restored) the other columns\n",
    "5. Checked everything as we went along."
   ]
  },
  {
   "cell_type": "markdown",
   "id": "9418962f",
   "metadata": {},
   "source": [
    "## Calculate more efficiently using a function\n",
    "\n",
    "Instead of writing out all the steps on the dataframe, it's a better idea to write a function.\n",
    "\n",
    "This means that all the calculation, and all the thinking about the calculation, is wrapped up into a single piece of code, and then afterwards you use that piece again and again.\n",
    "\n",
    "You use functions all the time in this course and you have come across functions in previous courses. It's useful, sometimes, to write your own.\n",
    "\n",
    "We will call the function `log2foldchange`. It will take an input vector that we'll call `x`, and return the log2 fold-change of the input."
   ]
  },
  {
   "cell_type": "code",
   "execution_count": null,
   "id": "32ddd57e",
   "metadata": {},
   "outputs": [],
   "source": [
    "def log2foldchange(x):\n",
    "    x_log2 = np.log2(x)\n",
    "    return x_log2 - x_log2.mean()"
   ]
  },
  {
   "cell_type": "markdown",
   "id": "7ea7269c",
   "metadata": {},
   "source": [
    "Let's test the function. To test the function, we'll use a simple input that the vector `[1, 2, 4]` has log2-scale values `[0, 1, 2]`, so the fold-change should be `[-1, 0, 1]`."
   ]
  },
  {
   "cell_type": "code",
   "execution_count": null,
   "id": "be38529a",
   "metadata": {},
   "outputs": [],
   "source": [
    "log2foldchange(np.array([1, 2, 4]))"
   ]
  },
  {
   "cell_type": "markdown",
   "id": "8e1ddede",
   "metadata": {},
   "source": [
    "That worked as expected. These kind of little tests and sanity checks are important for knowing that your code works."
   ]
  },
  {
   "cell_type": "markdown",
   "id": "c74d3214",
   "metadata": {},
   "source": [
    "## Exercise 1: Use `log2foldchange` to re-calculate on the columns of the data\n",
    "\n",
    "Try using `apply`."
   ]
  },
  {
   "cell_type": "markdown",
   "id": "7504a1cc",
   "metadata": {},
   "source": [
    "## Exercise 2: Use `log2foldchange` on tidy data\n",
    "\n",
    "Try:\n",
    "1. Tidy your data using `melt`.  Give sensible names to the column with TPMs and the column with sample names.\n",
    "2. Group by Gene using `group_by`.\n",
    "3. Then use `log2foldchange` on the grouped TPM column.\n",
    "4. Check that it worked!"
   ]
  },
  {
   "cell_type": "markdown",
   "id": "7909a71a",
   "metadata": {},
   "source": [
    "## Exercise 3: Can you do `log10foldchange`? Or a different normalisation?\n",
    "\n",
    "Different normalisations work for different purposes, depending on how spread out the data are."
   ]
  },
  {
   "cell_type": "code",
   "execution_count": null,
   "id": "4c7b7021",
   "metadata": {},
   "outputs": [],
   "source": []
  }
 ],
 "metadata": {
  "kernelspec": {
   "display_name": "Python 3 (ipykernel)",
   "language": "python",
   "name": "python3"
  },
  "language_info": {
   "codemirror_mode": {
    "name": "ipython",
    "version": 3
   },
   "file_extension": ".py",
   "mimetype": "text/x-python",
   "name": "python",
   "nbconvert_exporter": "python",
   "pygments_lexer": "ipython3",
   "version": "3.9.13"
  }
 },
 "nbformat": 4,
 "nbformat_minor": 5
}
